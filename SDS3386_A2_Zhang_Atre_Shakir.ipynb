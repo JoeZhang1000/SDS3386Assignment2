{
 "cells": [
  {
   "cell_type": "markdown",
   "id": "1f189f9d",
   "metadata": {},
   "source": [
    "\n",
    "# SDS 3386 Assignment 2\n",
    "\n",
    "Joe Zhang, Rahul Atre, Mohamed Shakir\n",
    "\n",
    "## Due Thursday September 29th at 11:59pm, on Brightspace\n",
    "\n",
    "Total Marks: 10\n",
    "\n",
    "This is a **group** assignment. You must complete it with **two** other people (except by prior permission), preferably those you have chosen to work on a project with (though this is not required). By the time you submit your assignment, all group members should understand all answers and be able to explain them. I may ask a few people about them.\n",
    "\n",
    "Start here: Download this file to your laptop, rename or make a copy of it with filename in the format: SDS3386_A2_Name1_Name2_Name3.ipynb, where \"Name1\" etc. is the last name of a group member. Complete the assignment by editing the file. Edit this first cell of the notebook and replace the second line \"2023 Fall, Tanya Schmah\" with a list of the full names of all group members. If group members work on different copies of the notebook, then when you're finished you must combine your notebooks into one \"clean\" copy for submission. When finished, export as HTML, and upload both the jupyter notebook and the HTML file to Brightspace. Each student should submit a copy of the same assignment to Brightspace, with a comment (added in the box on the assignment submission page) that lists the names of your group members.\n",
    "\n",
    "You may copy and modify code from your Lab exercises, but if you copy more than two lines from another source, note the source in a comment."
   ]
  },
  {
   "cell_type": "markdown",
   "id": "7c71c166",
   "metadata": {},
   "source": [
    "# Question 1 (1 mark)\n",
    "\n",
    "Using the basketball dataset here: https://github.com/fivethirtyeight/data/raw/master/nba-elo/nbaallelo.csv (and described here: https://github.com/fivethirtyeight/data/tree/master/nba-elo), determine the proportion of Home games ('game_location' == 'H') won, and the proportion of Away games won, in the entire dataset.\n",
    "\n",
    "*Hint: `df.value_counts?`*"
   ]
  },
  {
   "cell_type": "code",
   "execution_count": 19,
   "id": "c8c54ad4",
   "metadata": {},
   "outputs": [
    {
     "name": "stdout",
     "output_type": "stream",
     "text": [
      "The proportion of Home games won is 0.6225252621242358, and the proportion of Away games won is 0.3774747378757642.\n"
     ]
    }
   ],
   "source": [
    "import pandas as pd\n",
    "\n",
    "data = pd.read_csv(\"https://github.com/fivethirtyeight/data/raw/master/nba-elo/nbaallelo.csv\")\n",
    "\n",
    "home = data.value_counts(data[\"game_location\"])['H']\n",
    "away = data.value_counts(data[\"game_location\"])[\"A\"]\n",
    "\n",
    "df1 = data.loc[data['game_location'] == 'H']\n",
    "df2 = data.loc[data['game_location'] == 'A']\n",
    "\n",
    "homeWins = data.value_counts(df1[\"game_result\"])[\"W\"]\n",
    "awayWins = data.value_counts(df2[\"game_result\"])[\"W\"]\n",
    "\n",
    "percentHomeWins = homeWins/home\n",
    "percentAwayWins = awayWins/away\n",
    "\n",
    "print(\"The proportion of Home games won is \" + str(percentHomeWins) + \", and the proportion of Away games won is \"+ str(percentAwayWins) + \".\")"
   ]
  },
  {
   "cell_type": "markdown",
   "id": "2a245e06",
   "metadata": {},
   "source": [
    "# Question 2 (3 marks)\n",
    "\n",
    "Use the dataset `grades.csv` provided with this assignment. The grading policy for the course is:\n",
    "\n",
    "    10% for each assignment and 60% for the final exam.\n",
    " \n",
    "A) [1 point] Add a new column 'Final', calculated according to the above formula. Put 'INC' (for incomplete) for the student who didn't write the exam. Save the data to a file 'grades_calculated.csv', *without* an initial column containing row numbers (i.e. indexes).\n",
    "\n",
    "*Hint: 'df.to_csv?'*\n",
    "\n",
    "B) [2 points] Make a single chart showing all students' grades for all 5 assessments, with the assessment name on the horizontal axis and percentage grades on the vertical axis, and a legend listing the students. Choose a chart type that makes it easy to visually group the grades for a particular student and follow their progress over time.\n",
    "\n",
    "*Hints: Tidy the data. Convert all grades to percentages.*\n"
   ]
  },
  {
   "cell_type": "markdown",
   "id": "b56e5830",
   "metadata": {
    "scrolled": false
   },
   "source": [
    "# Question 3 (3 marks)\n",
    "\n",
    "This question uses a subset of the Billboard Top 100 dataset, provided with this assignment in `billboardhw.csv`.\n",
    "\n",
    "\n",
    "A) Select all songs that first appeared on the charts in January 2000. (The date of first appearance is 'date_entered'.) \n",
    "\n",
    "*Hint: `pd.to_datetime()`*\n",
    "\n",
    "B) Partially tidy this chart, by putting all rankings (for all weeks) in one column named 'ranking'.\n",
    "\n",
    "C) Produce a single graphic showing, for each song in the chart, a line graph of ranking versus time (week)."
   ]
  },
  {
   "cell_type": "markdown",
   "id": "61c2bf98",
   "metadata": {},
   "source": [
    "# Question 4 (3 marks)\n",
    "\n",
    "For this question you will need:\n",
    "\n",
    "1) The `geopandas` package (install it using conda). \n",
    "\n",
    "*Note that geopandas is built on top of pandas, so you can use pandas operations.*\n",
    "\n",
    "2) A shapefile for Canadian provinces. To get this, go to <https://library.carleton.ca/find/gis/geospatial-data/shapefiles-canada-united-states-and-world> and then:\n",
    "\n",
    "    - click \"Statistics Canada 2021 cartographic boundary shapefile of provinces/territories\"\n",
    "    - select Type \"Digital Boundary Files (DBF)\"\n",
    "    - select \"Administrative boundaries\"-> \"Provinces/territories\"\n",
    "    - select \"Format\"->\"Shapefile (.shp)\"\n",
    "    \n",
    "Then \"Continue\" and download the zip file. Unzip it and move the whole folder to your working directory.\n",
    "\n",
    "3) Some per-province employment data to display. Download the data from here: <https://www150.statcan.gc.ca/t1/tbl1/en/tv.action?pid=1410006601> \n",
    "\n",
    "Unzip it and move the whole folder to your working directory.\n",
    "\n",
    "\n",
    "A) Run the following cells. Then select only the rows corresponding to the 10 provinces, and plot that."
   ]
  },
  {
   "cell_type": "code",
   "execution_count": 1,
   "id": "7b265db9",
   "metadata": {},
   "outputs": [],
   "source": [
    "import pandas as pd\n",
    "import geopandas as gpd"
   ]
  },
  {
   "cell_type": "code",
   "execution_count": null,
   "id": "25c5263b",
   "metadata": {},
   "outputs": [],
   "source": [
    "provterr = gpd.read_file('lpr_000a21a_e/lpr_000a21a_e.shp')\n",
    "provterr.plot()"
   ]
  },
  {
   "cell_type": "markdown",
   "id": "ace679ca",
   "metadata": {},
   "source": [
    "B) Load the employment data into a Pandas dataframe.\n",
    "\n",
    "Select only rows from 2021, with:\n",
    "\n",
    "- 'Sex' == 'Both sexes'\n",
    "\n",
    "- 'Age group' == '15 years and over'\n",
    "\n",
    "- 'Wages' == 'Total employees, all wages'\n",
    "\n",
    "- 'Job permanency' and 'Union coverage' both starting with 'Total'\n",
    "    (hint: `.str.startswith('Total')`)\n",
    "    \n",
    "Select only the column containing the province names and the 'VALUE' column, which in this case is the total number of employees, in thousands.\n",
    "\n",
    "Join this data to the geopandas dataframe you created in (A)."
   ]
  },
  {
   "cell_type": "markdown",
   "id": "cd3d45a0",
   "metadata": {},
   "source": [
    "C) Create a *choropleth* chart showing the total employment in each province, i.e. a map with provinces coloured according to the 'VALUE' column, with a legend.\n",
    "\n",
    "*Hint:`prov.plot?`*"
   ]
  },
  {
   "cell_type": "code",
   "execution_count": null,
   "id": "ba904f42",
   "metadata": {},
   "outputs": [],
   "source": []
  }
 ],
 "metadata": {
  "celltoolbar": "Slideshow",
  "kernelspec": {
   "display_name": "Python 3 (ipykernel)",
   "language": "python",
   "name": "python3"
  },
  "language_info": {
   "codemirror_mode": {
    "name": "ipython",
    "version": 3
   },
   "file_extension": ".py",
   "mimetype": "text/x-python",
   "name": "python",
   "nbconvert_exporter": "python",
   "pygments_lexer": "ipython3",
   "version": "3.9.18"
  }
 },
 "nbformat": 4,
 "nbformat_minor": 5
}
